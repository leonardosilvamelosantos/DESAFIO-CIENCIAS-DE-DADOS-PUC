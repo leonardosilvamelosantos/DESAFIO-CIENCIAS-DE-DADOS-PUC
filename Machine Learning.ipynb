{
  "nbformat": 4,
  "nbformat_minor": 0,
  "metadata": {
    "colab": {
      "provenance": [],
      "authorship_tag": "ABX9TyNkK/CFd3THE4J7P8+NWpII",
      "include_colab_link": true
    },
    "kernelspec": {
      "name": "python3",
      "display_name": "Python 3"
    },
    "language_info": {
      "name": "python"
    }
  },
  "cells": [
    {
      "cell_type": "markdown",
      "metadata": {
        "id": "view-in-github",
        "colab_type": "text"
      },
      "source": [
        "<a href=\"https://colab.research.google.com/github/leonardosilvamelosantos/DESAFIO-CIENCIAS-DE-DADOS-PUC/blob/main/Machine%20Learning.ipynb\" target=\"_parent\"><img src=\"https://colab.research.google.com/assets/colab-badge.svg\" alt=\"Open In Colab\"/></a>"
      ]
    },
    {
      "cell_type": "code",
      "execution_count": null,
      "metadata": {
        "colab": {
          "base_uri": "https://localhost:8080/"
        },
        "id": "vvu1rdlm8Wju",
        "outputId": "68372780-7245-4ffb-e762-aab34d38b28e"
      },
      "outputs": [
        {
          "output_type": "stream",
          "name": "stdout",
          "text": [
            "   RowNumber  CustomerId   Surname  CreditScore Geography  Gender  Age  \\\n",
            "0          1    15634602  Hargrave          619    France  Female   42   \n",
            "1          2    15647311      Hill          608     Spain  Female   41   \n",
            "2          3    15619304      Onio          502    France  Female   42   \n",
            "3          4    15701354      Boni          699    France  Female   39   \n",
            "4          5    15737888  Mitchell          850     Spain  Female   43   \n",
            "\n",
            "   Tenure    Balance  NumOfProducts  HasCrCard  IsActiveMember  \\\n",
            "0       2       0.00              1          1               1   \n",
            "1       1   83807.86              1          0               1   \n",
            "2       8  159660.80              3          1               0   \n",
            "3       1       0.00              2          0               0   \n",
            "4       2  125510.82              1          1               1   \n",
            "\n",
            "   EstimatedSalary  Exited  \n",
            "0        101348.88       1  \n",
            "1        112542.58       0  \n",
            "2        113931.57       1  \n",
            "3         93826.63       0  \n",
            "4         79084.10       0  \n"
          ]
        }
      ],
      "source": [
        "import pandas as pd\n",
        "\n",
        "\n",
        "# URL do arquivo CSV (link raw no GitHub)\n",
        "url = \"https://raw.githubusercontent.com/malegopc/DSBD/main/Datasets/Churn/Churn_Modelling.csv\"\n",
        "\n",
        "# Carregar o DataFrame a partir do arquivo CSV\n",
        "dataframe = pd.read_csv(url)\n",
        "\n",
        "# Exibir as primeiras linhas do DataFrame\n",
        "print(dataframe.head())\n"
      ]
    },
    {
      "cell_type": "code",
      "source": [
        "# Eliminar instâncias com dados ausentes na coluna \"IsActiveMember\" no próprio DataFrame\n",
        "dataframe.dropna(subset=['IsActiveMember'], inplace=True)\n",
        "\n",
        "# Exibir as primeiras linhas do DataFrame após a remoção\n",
        "print(dataframe.head())\n"
      ],
      "metadata": {
        "colab": {
          "base_uri": "https://localhost:8080/"
        },
        "id": "o_w1x9swhwH1",
        "outputId": "b5b7d767-9bf5-4293-94af-581bfb73b19b"
      },
      "execution_count": null,
      "outputs": [
        {
          "output_type": "stream",
          "name": "stdout",
          "text": [
            "   RowNumber  CustomerId   Surname  CreditScore Geography  Gender  Age  \\\n",
            "0          1    15634602  Hargrave          619    France  Female   42   \n",
            "1          2    15647311      Hill          608     Spain  Female   41   \n",
            "2          3    15619304      Onio          502    France  Female   42   \n",
            "3          4    15701354      Boni          699    France  Female   39   \n",
            "4          5    15737888  Mitchell          850     Spain  Female   43   \n",
            "\n",
            "   Tenure    Balance  NumOfProducts  HasCrCard  IsActiveMember  \\\n",
            "0       2       0.00              1          1               1   \n",
            "1       1   83807.86              1          0               1   \n",
            "2       8  159660.80              3          1               0   \n",
            "3       1       0.00              2          0               0   \n",
            "4       2  125510.82              1          1               1   \n",
            "\n",
            "   EstimatedSalary  Exited  \n",
            "0        101348.88       1  \n",
            "1        112542.58       0  \n",
            "2        113931.57       1  \n",
            "3         93826.63       0  \n",
            "4         79084.10       0  \n"
          ]
        }
      ]
    },
    {
      "cell_type": "code",
      "source": [
        "# Calcular a média da variável \"NumOfProducts\"\n",
        "media_num_of_products = dataframe['NumOfProducts'].mean()\n",
        "\n",
        "# Imputar os dados ausentes na variável \"NumOfProducts\" com a média\n",
        "dataframe['NumOfProducts'].fillna(media_num_of_products, inplace=True)\n",
        "\n",
        "# Exibir as primeiras linhas do DataFrame após a imputação\n",
        "print(dataframe.head())\n"
      ],
      "metadata": {
        "colab": {
          "base_uri": "https://localhost:8080/"
        },
        "id": "LKmGFgvKiVQ_",
        "outputId": "c9dd1f8a-6430-4d29-dbf2-dad8ec040775"
      },
      "execution_count": null,
      "outputs": [
        {
          "output_type": "stream",
          "name": "stdout",
          "text": [
            "   RowNumber  CustomerId   Surname  CreditScore Geography  Gender  Age  \\\n",
            "0          1    15634602  Hargrave          619    France  Female   42   \n",
            "1          2    15647311      Hill          608     Spain  Female   41   \n",
            "2          3    15619304      Onio          502    France  Female   42   \n",
            "3          4    15701354      Boni          699    France  Female   39   \n",
            "4          5    15737888  Mitchell          850     Spain  Female   43   \n",
            "\n",
            "   Tenure    Balance  NumOfProducts  HasCrCard  IsActiveMember  \\\n",
            "0       2       0.00              1          1               1   \n",
            "1       1   83807.86              1          0               1   \n",
            "2       8  159660.80              3          1               0   \n",
            "3       1       0.00              2          0               0   \n",
            "4       2  125510.82              1          1               1   \n",
            "\n",
            "   EstimatedSalary  Exited  \n",
            "0        101348.88       1  \n",
            "1        112542.58       0  \n",
            "2        113931.57       1  \n",
            "3         93826.63       0  \n",
            "4         79084.10       0  \n"
          ]
        }
      ]
    },
    {
      "cell_type": "code",
      "source": [
        "# Criar variável X com os atributos de \"CreditScore\" a \"EstimatedSalary\"\n",
        "X = dataframe.iloc[:, 3:-1]  # Seleciona as colunas da 4ª à penúltima\n",
        "\n",
        "\n",
        "# Criar variável y com a coluna \"Exited\" como variável destino\n",
        "y = dataframe['Exited']\n",
        "\n",
        "# Exibir as primeiras linhas de X e y\n",
        "print(\"Variável X:\")\n",
        "print(X.head())\n",
        "\n",
        "print(\"\\nVariável y:\")\n",
        "print(y.head())\n"
      ],
      "metadata": {
        "colab": {
          "base_uri": "https://localhost:8080/"
        },
        "id": "dD2sf2qKievh",
        "outputId": "8ca5d299-bf73-4629-f3dc-e45d69dfe087"
      },
      "execution_count": null,
      "outputs": [
        {
          "output_type": "stream",
          "name": "stdout",
          "text": [
            "Variável X:\n",
            "   CreditScore Geography  Gender  Age  Tenure    Balance  NumOfProducts  \\\n",
            "0          619    France  Female   42       2       0.00              1   \n",
            "1          608     Spain  Female   41       1   83807.86              1   \n",
            "2          502    France  Female   42       8  159660.80              3   \n",
            "3          699    France  Female   39       1       0.00              2   \n",
            "4          850     Spain  Female   43       2  125510.82              1   \n",
            "\n",
            "   HasCrCard  IsActiveMember  EstimatedSalary  \n",
            "0          1               1        101348.88  \n",
            "1          0               1        112542.58  \n",
            "2          1               0        113931.57  \n",
            "3          0               0         93826.63  \n",
            "4          1               1         79084.10  \n",
            "\n",
            "Variável y:\n",
            "0    1\n",
            "1    0\n",
            "2    1\n",
            "3    0\n",
            "4    0\n",
            "Name: Exited, dtype: int64\n"
          ]
        }
      ]
    },
    {
      "cell_type": "code",
      "source": [
        "from sklearn.preprocessing import LabelEncoder\n",
        "\n",
        "# Criar uma cópia de X para preservar o DataFrame original\n",
        "X_encoded = X.copy()\n",
        "\n",
        "# Instanciar o LabelEncoder\n",
        "label_encoder = LabelEncoder()\n",
        "\n",
        "# Codificar a coluna \"Gender\" como numérica\n",
        "X_encoded['Gender'] = label_encoder.fit_transform(X['Gender'])\n",
        "\n",
        "# Exibir as primeiras linhas de X_encoded\n",
        "print(\"Variável X_encoded:\")\n",
        "print(X_encoded.head())\n"
      ],
      "metadata": {
        "colab": {
          "base_uri": "https://localhost:8080/"
        },
        "id": "dSocs8PnjB-D",
        "outputId": "548b266a-f6a4-4ded-ca65-c637c13ca84b"
      },
      "execution_count": null,
      "outputs": [
        {
          "output_type": "stream",
          "name": "stdout",
          "text": [
            "Variável X_encoded:\n",
            "   CreditScore Geography  Gender  Age  Tenure    Balance  NumOfProducts  \\\n",
            "0          619    France       0   42       2       0.00              1   \n",
            "1          608     Spain       0   41       1   83807.86              1   \n",
            "2          502    France       0   42       8  159660.80              3   \n",
            "3          699    France       0   39       1       0.00              2   \n",
            "4          850     Spain       0   43       2  125510.82              1   \n",
            "\n",
            "   HasCrCard  IsActiveMember  EstimatedSalary  \n",
            "0          1               1        101348.88  \n",
            "1          0               1        112542.58  \n",
            "2          1               0        113931.57  \n",
            "3          0               0         93826.63  \n",
            "4          1               1         79084.10  \n"
          ]
        }
      ]
    },
    {
      "cell_type": "code",
      "source": [
        "from sklearn.preprocessing import OneHotEncoder\n",
        "from sklearn.compose import ColumnTransformer\n",
        "\n",
        "# Supondo que você já tenha X_encoded do passo anterior\n",
        "# Se não, certifique-se de ter a coluna \"Geography\" codificada usando LabelEncoder\n",
        "\n",
        "# Criar um ColumnTransformer para aplicar OneHotEncoder à coluna 'Geography'\n",
        "column_transformer = ColumnTransformer(\n",
        "    transformers=[\n",
        "        ('onehot', OneHotEncoder(drop='first'), ['Geography'])\n",
        "    ],\n",
        "    remainder='passthrough'\n",
        ")\n",
        "\n",
        "# Aplicar a transformação ao DataFrame\n",
        "X_encoded_array = column_transformer.fit_transform(X_encoded)\n",
        "\n",
        "# Converter o resultado de volta para um DataFrame\n",
        "X_encoded = pd.DataFrame(X_encoded_array, columns=['Geography_2', 'Geography_3'] + list(X_encoded.columns[1:]))\n",
        "\n",
        "# Exibir as primeiras linhas de X_encoded\n",
        "print(\"Variável X_encoded com OneHotEncoding para 'Geography':\")\n",
        "print(X_encoded.head())\n"
      ],
      "metadata": {
        "colab": {
          "base_uri": "https://localhost:8080/"
        },
        "id": "axs0rTYjjW-d",
        "outputId": "0aae63e5-bb64-46ae-8756-962321730f73"
      },
      "execution_count": null,
      "outputs": [
        {
          "output_type": "stream",
          "name": "stdout",
          "text": [
            "Variável X_encoded com OneHotEncoding para 'Geography':\n",
            "   Geography_2  Geography_3  Geography  Gender   Age  Tenure    Balance  \\\n",
            "0          0.0          0.0      619.0     0.0  42.0     2.0       0.00   \n",
            "1          0.0          1.0      608.0     0.0  41.0     1.0   83807.86   \n",
            "2          0.0          0.0      502.0     0.0  42.0     8.0  159660.80   \n",
            "3          0.0          0.0      699.0     0.0  39.0     1.0       0.00   \n",
            "4          0.0          1.0      850.0     0.0  43.0     2.0  125510.82   \n",
            "\n",
            "   NumOfProducts  HasCrCard  IsActiveMember  EstimatedSalary  \n",
            "0            1.0        1.0             1.0        101348.88  \n",
            "1            1.0        0.0             1.0        112542.58  \n",
            "2            3.0        1.0             0.0        113931.57  \n",
            "3            2.0        0.0             0.0         93826.63  \n",
            "4            1.0        1.0             1.0         79084.10  \n"
          ]
        }
      ]
    },
    {
      "cell_type": "code",
      "source": [
        "from sklearn.model_selection import train_test_split\n",
        "\n",
        "# Definir a proporção de dados de treino e teste\n",
        "proporcao_treino = 0.75\n",
        "\n",
        "# Dividir os dados em conjuntos de treino e teste\n",
        "X_train, X_test, y_train, y_test = train_test_split(X_encoded, y, test_size=(1 - proporcao_treino), random_state=42)\n",
        "\n",
        "# Exibir as dimensões de treino e teste\n",
        "print(f\"Dimensões de X_train: {X_train.shape}\")\n",
        "print(f\"Dimensões de X_test: {X_test.shape}\")\n",
        "print(f\"Dimensões de y_train: {y_train.shape}\")\n",
        "print(f\"Dimensões de y_test: {y_test.shape}\")\n"
      ],
      "metadata": {
        "colab": {
          "base_uri": "https://localhost:8080/"
        },
        "id": "8h3fnocRjgxK",
        "outputId": "d6844de4-c9ed-4d22-ce66-990bff4afc3d"
      },
      "execution_count": null,
      "outputs": [
        {
          "output_type": "stream",
          "name": "stdout",
          "text": [
            "Dimensões de X_train: (7500, 11)\n",
            "Dimensões de X_test: (2500, 11)\n",
            "Dimensões de y_train: (7500,)\n",
            "Dimensões de y_test: (2500,)\n"
          ]
        }
      ]
    },
    {
      "cell_type": "code",
      "source": [
        "from sklearn.preprocessing import StandardScaler\n",
        "\n",
        "scaler = StandardScaler()\n",
        "\n",
        "# Ajustar o scaler aos dados de treino e transformar X_train\n",
        "X_train_scaled = scaler.fit_transform(X_train)\n",
        "\n",
        "# Transformar X_test usando o scaler ajustado aos dados de treino\n",
        "X_test_scaled = scaler.transform(X_test)\n",
        "\n",
        "\n",
        "print(\"X_train_scaled:\")\n",
        "print(X_train_scaled[:5, :])  # Exibindo as primeiras 5 linhas\n",
        "\n",
        "print(\"\\nX_test_scaled:\")\n",
        "print(X_test_scaled[:5, :])   # Exibindo as primeiras 5 linhas\n"
      ],
      "metadata": {
        "colab": {
          "base_uri": "https://localhost:8080/"
        },
        "id": "1FH7vz-Ajr-s",
        "outputId": "7640a69d-5c99-4849-a22d-ea17fa116bcc"
      },
      "execution_count": null,
      "outputs": [
        {
          "output_type": "stream",
          "name": "stdout",
          "text": [
            "X_train_scaled:\n",
            "[[-0.57776083 -0.57735027  0.21835119  0.91186722  1.91661905 -1.73168869\n",
            "   1.62992801  0.81311138 -1.53973586  0.96978946 -1.38284424]\n",
            " [ 1.73082    -0.57735027  2.05728037  0.91186722  0.20210899  1.04174968\n",
            "  -0.24624357 -0.91104337  0.64946204 -1.03115165 -1.19589044]\n",
            " [-0.57776083 -0.57735027  0.75860157 -1.09665089 -0.75039661  0.34839008\n",
            "  -1.22102728 -0.91104337 -1.53973586 -1.03115165 -0.68342242]\n",
            " [-0.57776083 -0.57735027 -0.08294229  0.91186722 -0.55989549  0.69506988\n",
            "   1.57410113 -0.91104337 -1.53973586  0.96978946 -0.98539624]\n",
            " [-0.57776083  1.73205081  0.5300341   0.91186722 -0.94089772  1.38842947\n",
            "  -1.22102728  0.81311138  0.64946204 -1.03115165 -0.86837538]]\n",
            "\n",
            "X_test_scaled:\n",
            "[[ 1.73082    -0.57735027 -0.58163494  0.91186722 -0.65514605 -0.69164931\n",
            "   0.32741841  0.81311138 -1.53973586 -1.03115165 -1.02282685]\n",
            " [-0.57776083 -0.57735027 -0.30112032  0.91186722  0.3926101  -1.3850089\n",
            "  -1.22102728  0.81311138  0.64946204  0.96978946  0.79406925]\n",
            " [-0.57776083  1.73205081 -0.52968779 -1.09665089  0.48786066 -0.34496951\n",
            "  -1.22102728  0.81311138  0.64946204 -1.03115165 -0.73145656]\n",
            " [ 1.73082    -0.57735027 -1.51668367  0.91186722  1.91661905  1.04174968\n",
            "   0.68676229  0.81311138  0.64946204  0.96978946  1.21620312]\n",
            " [-0.57776083  1.73205081 -0.95565443 -1.09665089 -1.13139884  0.69506988\n",
            "   0.78033088 -0.91104337  0.64946204  0.96978946  0.24322908]]\n"
          ]
        }
      ]
    }
  ]
}